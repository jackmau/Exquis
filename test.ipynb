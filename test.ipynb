{
  "metadata": {
    "kernelspec": {
      "name": "python",
      "display_name": "Python (Pyodide)",
      "language": "python"
    },
    "language_info": {
      "codemirror_mode": {
        "name": "python",
        "version": 3
      },
      "file_extension": ".py",
      "mimetype": "text/x-python",
      "name": "python",
      "nbconvert_exporter": "python",
      "pygments_lexer": "ipython3",
      "version": "3.8"
    }
  },
  "nbformat_minor": 4,
  "nbformat": 4,
  "cells": [
    {
      "cell_type": "code",
      "source": "cs1 = [[150,113,23],\n       [31,206,203],\n       [255,0,127],\n       [115,194,251],\n       [197,75,140],\n       [226,88,34],\n       [135,206,235],\n       [255,36,0],\n       [173,216,230],\n       [207,16,32],\n       [0,255,239],\n       [242,133,0]]\ncs2 = [[255,253,208],\n       [30,144,255],\n       [237,201,175],\n       [16,52,166],\n       [194,178,128],\n       [229,170,112],\n       [17,100,180],\n       [255,215,0],\n       [93,138,168],\n       [251,206,177],\n       [0,112,255],\n       [227,218,201]]\n       \n       ",
      "metadata": {
        "trusted": true
      },
      "outputs": [],
      "execution_count": 323
    },
    {
      "cell_type": "code",
      "source": "def HarmonicTable(st_note, jump, cols_lens, row_len, int_y, int_xz,cs1,cs2):\n    col, notes = zip(*[(z,st_note + jump*z + x * int_y[z] + q + int_xz[y]) for q in range(row_len) for y in range(2) for z in range(2) for x in range(cols_lens[y][z])][:-sum(cols_lens[1])])\n    return [notes, [list(zip(cs1,cs2))[notes[x] % 12][col[x]] for x in range(len(notes))]]",
      "metadata": {
        "trusted": true
      },
      "outputs": [],
      "execution_count": 434
    },
    {
      "cell_type": "code",
      "source": "st_note",
      "metadata": {
        "trusted": true
      },
      "outputs": [],
      "execution_count": null
    },
    {
      "cell_type": "code",
      "source": "notes, colours = HarmonicTable(24,12*4+2, [[3,3],[2,3]], 6, [11,-11], [0,6], cs1,cs2)",
      "metadata": {
        "trusted": true
      },
      "outputs": [],
      "execution_count": 435
    },
    {
      "cell_type": "code",
      "source": "notes, colours = HarmonicTable([30,24+12*3+2], [[3,3],[2,2]], 6, [3,-3], [4,4], cs1,cs2)",
      "metadata": {
        "trusted": true
      },
      "outputs": [],
      "execution_count": 431
    },
    {
      "cell_type": "code",
      "source": "col, notes = zip(*[(z,st_notes[z] + x * int_y[z] + q + int_xz[y]) for q in range(row_len) for y in range(2) for z in range(2) for x in range(cols_lens[y][z])][:-5])",
      "metadata": {
        "trusted": true
      },
      "outputs": [],
      "execution_count": 340
    },
    {
      "cell_type": "code",
      "source": "test = list(zip(a,b))\ntest.append(a[-1])",
      "metadata": {
        "trusted": true
      },
      "outputs": [],
      "execution_count": 106
    },
    {
      "cell_type": "code",
      "source": "def HarmonicTableHorizontal(st_note, jump, cols_lens, row_len, int_y, int_z, cs1, cs2):\n    note1, col1 = HarmonicTable(st_note,0, [[cols_lens[0],0],[cols_lens[1],0]], row_len, [int_y[0],0], [0,int_z[0]],cs1,cs2)\n    note1 = note1 + (0,)*5\n    col1 = col1 + [[0]*3]*5\n    note2, col2 = HarmonicTable(st_note+jump,0, [[0,cols_lens[0]],[0,cols_lens[1]]], row_len, [0,int_y[1]], [0,int_z[1]],cs1,cs2)\n    return [note1+note2,col1+col2]",
      "metadata": {
        "trusted": true
      },
      "outputs": [],
      "execution_count": 437
    },
    {
      "cell_type": "code",
      "source": "notes, colours = HarmonicTableHorizontal(29,12*4+5, [6,5],3,[5,-5],[3,-2],cs1,cs2)",
      "metadata": {
        "trusted": true
      },
      "outputs": [],
      "execution_count": 440
    },
    {
      "cell_type": "code",
      "source": "[notes.insert(x,0) for x in range(8,56,11)]\n[colours.insert(x,[0,0,0]) for x in range(8,56,11)]",
      "metadata": {
        "trusted": true
      },
      "outputs": [
        {
          "execution_count": 426,
          "output_type": "execute_result",
          "data": {
            "text/plain": "[None, None, None, None, None]"
          },
          "metadata": {}
        }
      ],
      "execution_count": 426
    },
    {
      "cell_type": "code",
      "source": "notes = list(notes)\ncolours = list(colours)",
      "metadata": {
        "trusted": true
      },
      "outputs": [],
      "execution_count": 425
    },
    {
      "cell_type": "code",
      "source": "import ipywidgets as widgets\nfrom IPython.display import display\nimport time\nimport rtmidi\n\n# Create a dropdown for the image selection\nimage_selection = widgets.Dropdown(\n    options=['Cattura.PNG', 'Image 2', 'Image 3'],\n    value='Cattura.PNG',\n    description='Select Image:',\n)\n\n# Create the start and stop buttons\nstart_button = widgets.Button(description=\"Start\")\nstop_button = widgets.Button(description=\"Stop\")\n\n# Create a boolean variable to control the sending of MIDI messages\nsend_midi = False\n\n# Define the MIDI interface\nmidiout = rtmidi.MidiOut()\n\n# Define the function to send MIDI messages\ndef send_midi_message():\n    # Open the first available MIDI output port\n    with midiout.open_port(0):\n        \n        while send_midi:\n            midiout.send_message([0xF0, 0x00, 0x21, 0x7E, 0xF7])\n            time.sleep(0.4)  # The message is sent every 400 ms\n\n\n#- note colour : F0 00 21 7E 03 noteId r g b F7\n#- note number : F0 00 21 7E 04 noteId noteNumber F7\n# Define the functions to handle button clicks\ndef start_button_clicked(b):\n    global send_midi\n    send_midi = True\n    send_midi_message()\n\ndef stop_button_clicked(b):\n    global send_midi\n    send_midi = False\n\n# Link the buttons to their handlers\nstart_button.on_click(start_button_clicked)\nstop_button.on_click(stop_button_clicked)\n\n# Display the widgets\ndisplay(image_selection, start_button, stop_button)\n",
      "metadata": {
        "trusted": true
      },
      "outputs": [
        {
          "ename": "<class 'ModuleNotFoundError'>",
          "evalue": "No module named 'ipywidgets'",
          "traceback": [
            "\u001b[0;31m---------------------------------------------------------------------------\u001b[0m",
            "\u001b[0;31mModuleNotFoundError\u001b[0m                       Traceback (most recent call last)",
            "Cell \u001b[0;32mIn[442], line 1\u001b[0m\n\u001b[0;32m----> 1\u001b[0m \u001b[38;5;28;01mimport\u001b[39;00m \u001b[38;5;21;01mipywidgets\u001b[39;00m \u001b[38;5;28;01mas\u001b[39;00m \u001b[38;5;21;01mwidgets\u001b[39;00m\n\u001b[1;32m      2\u001b[0m \u001b[38;5;28;01mfrom\u001b[39;00m \u001b[38;5;21;01mIPython\u001b[39;00m\u001b[38;5;21;01m.\u001b[39;00m\u001b[38;5;21;01mdisplay\u001b[39;00m \u001b[38;5;28;01mimport\u001b[39;00m display\n\u001b[1;32m      3\u001b[0m \u001b[38;5;28;01mimport\u001b[39;00m \u001b[38;5;21;01mtime\u001b[39;00m\n",
            "\u001b[0;31mModuleNotFoundError\u001b[0m: No module named 'ipywidgets'"
          ],
          "output_type": "error"
        }
      ],
      "execution_count": 442
    }
  ]
}