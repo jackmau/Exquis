{
  "metadata": {
    "kernelspec": {
      "name": "python",
      "display_name": "Python (Pyodide)",
      "language": "python"
    },
    "language_info": {
      "codemirror_mode": {
        "name": "python",
        "version": 3
      },
      "file_extension": ".py",
      "mimetype": "text/x-python",
      "name": "python",
      "nbconvert_exporter": "python",
      "pygments_lexer": "ipython3",
      "version": "3.8"
    }
  },
  "nbformat_minor": 4,
  "nbformat": 4,
  "cells": [
    {
      "cell_type": "code",
      "source": "cs1 = [[150,113,23],\n       [31,206,203],\n       [255,0,127],\n       [115,194,251],\n       [197,75,140],\n       [226,88,34],\n       [135,206,235],\n       [255,36,0],\n       [173,216,230],\n       [207,16,32],\n       [0,255,239],\n       [242,133,0]]\ncs2 = [[255,253,208],\n       [30,144,255],\n       [237,201,175],\n       [16,52,166],\n       [194,178,128],\n       [229,170,112],\n       [17,100,180],\n       [255,215,0],\n       [93,138,168],\n       [251,206,177],\n       [0,112,255],\n       [227,218,201]]\n       \n       ",
      "metadata": {
        "trusted": true
      },
      "outputs": [],
      "execution_count": 168
    },
    {
      "cell_type": "code",
      "source": "def layout_vertical(st_note, split_structure, x_step, y_step, z_step, jump = 0, excl = [-1,-1,-1]):\n    return [(st_note + jump*z + x*y_step[z] + q*x_step[z] + y*z_step[z]) if not(x == excl[0] and y ==excl[1] and z ==excl[2]) else 0 for q in range(6) for y in range(2) for z in range(2) for x in range(split_structure[z][y])][:-sum(split_structure[x][1] for x in range(2))]\n\ndef layout_horizontal(st_note, x_step, y_step, z_step, jump = 0 , split = -1):\n    s = (split-1)/2-1\n    return [st_note + jump*(q>s) + q*x_step[(q>s)] + x*y_step[(q>s)] + z*z_step[(q>s)] for q in range(6) for z in range(2) for x in range([6,5][z])][:-5]\n\ndef note_colours(notes, cs, adj = True):\n    if adj:\n        cs = [[round(cs[y][x] *79/255) for x in range(3)] for y in range(len(cs1))]\n    return [cs[x % 12] if x > 0 else [0,0,0] for x in notes]",
      "metadata": {
        "trusted": true
      },
      "outputs": [],
      "execution_count": 184
    },
    {
      "cell_type": "code",
      "source": "",
      "metadata": {
        "trusted": true
      },
      "outputs": [
        {
          "execution_count": 181,
          "output_type": "execute_result",
          "data": {
            "text/plain": "[[50, 38, 8],\n [10, 69, 68],\n [85, 0, 42],\n [38, 65, 84],\n [66, 25, 47],\n [75, 29, 11],\n [45, 69, 78],\n [85, 12, 0],\n [58, 72, 77],\n [69, 5, 11],\n [0, 85, 80],\n [81, 44, 0]]"
          },
          "metadata": {}
        }
      ],
      "execution_count": 181
    },
    {
      "cell_type": "code",
      "source": "test = layout_vertical(24, [[3,2],[3,3]], [1,1], [6,-6], [5,-5], 3*12+3)\nnote_colours(test, cs1)",
      "metadata": {
        "trusted": true,
        "scrolled": true
      },
      "outputs": [
        {
          "execution_count": 183,
          "output_type": "execute_result",
          "data": {
            "text/plain": "[[47, 35, 7],\n [42, 65, 74],\n [47, 35, 7],\n [36, 61, 79],\n [65, 5, 10],\n [36, 61, 79],\n [71, 28, 11],\n [76, 42, 0],\n [0, 80, 75],\n [62, 24, 44],\n [0, 80, 75],\n [10, 65, 64],\n [80, 11, 0],\n [10, 65, 64],\n [62, 24, 44],\n [0, 80, 75],\n [62, 24, 44],\n [42, 65, 74],\n [47, 35, 7],\n [76, 42, 0],\n [71, 28, 11],\n [76, 42, 0],\n [80, 0, 40],\n [54, 68, 72],\n [80, 0, 40],\n [71, 28, 11],\n [76, 42, 0],\n [71, 28, 11],\n [80, 11, 0],\n [10, 65, 64],\n [47, 35, 7],\n [42, 65, 74],\n [47, 35, 7],\n [36, 61, 79],\n [65, 5, 10],\n [36, 61, 79],\n [42, 65, 74],\n [47, 35, 7],\n [42, 65, 74],\n [54, 68, 72],\n [80, 0, 40],\n [10, 65, 64],\n [80, 11, 0],\n [10, 65, 64],\n [62, 24, 44],\n [0, 80, 75],\n [62, 24, 44],\n [80, 11, 0],\n [10, 65, 64],\n [80, 11, 0],\n [65, 5, 10],\n [36, 61, 79],\n [80, 0, 40],\n [54, 68, 72],\n [80, 0, 40],\n [71, 28, 11],\n [76, 42, 0],\n [71, 28, 11],\n [54, 68, 72],\n [80, 0, 40],\n [54, 68, 72]]"
          },
          "metadata": {}
        }
      ],
      "execution_count": 183
    },
    {
      "cell_type": "code",
      "source": "test = layout_vertical(30, [[3,3],[3,2]], [5,5], [3,-3], [4,1], 2*12+8, [2,1,0])\nnote_colours(test, cs1)",
      "metadata": {
        "trusted": true,
        "scrolled": true
      },
      "outputs": [
        {
          "execution_count": 186,
          "output_type": "execute_result",
          "data": {
            "text/plain": "61"
          },
          "metadata": {}
        }
      ],
      "execution_count": 186
    },
    {
      "cell_type": "code",
      "source": "layout_horizontal(34, [2,1], [4,-7], [3,-3], 5*12-4, 5)",
      "metadata": {
        "trusted": true
      },
      "outputs": [],
      "execution_count": null
    }
  ]
}